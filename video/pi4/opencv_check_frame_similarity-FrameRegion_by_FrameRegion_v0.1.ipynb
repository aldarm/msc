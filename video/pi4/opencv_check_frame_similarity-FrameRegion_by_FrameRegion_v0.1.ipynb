{
 "cells": [
  {
   "cell_type": "code",
   "execution_count": null,
   "metadata": {},
   "outputs": [],
   "source": [
    "#https://www.pyimagesearch.com/2014/09/15/python-compare-two-images/\n",
    "import cv2\n",
    "import numpy as np\n",
    "from matplotlib import pyplot as plt\n",
    "from skimage import measure\n",
    "import os\n",
    "import subprocess\n",
    "import re"
   ]
  },
  {
   "cell_type": "code",
   "execution_count": null,
   "metadata": {},
   "outputs": [],
   "source": []
  },
  {
   "cell_type": "code",
   "execution_count": null,
   "metadata": {},
   "outputs": [],
   "source": [
    "video_frames_path = '/media/2TB/datasets/traffic/video_frames/'\n",
    "video_regions = 'regions/'\n",
    "video_region_duplicates = 'regions/duplicates/'\n",
    "\n",
    "camera = 'pi4/'\n",
    "video_date = '2018-12-26_06-00'\n",
    "\n",
    "regions_path = video_frames_path + camera + video_regions + video_date + \"/\"\n",
    "regions_duplicates_path = video_frames_path + camera + video_region_duplicates + video_date + \"/\""
   ]
  },
  {
   "cell_type": "code",
   "execution_count": null,
   "metadata": {},
   "outputs": [],
   "source": [
    "regions_path"
   ]
  },
  {
   "cell_type": "code",
   "execution_count": null,
   "metadata": {},
   "outputs": [],
   "source": [
    "regions_duplicates_path"
   ]
  },
  {
   "cell_type": "code",
   "execution_count": null,
   "metadata": {},
   "outputs": [],
   "source": [
    "#Create Region duplicate frames Directory\n",
    "if not os.path.exists(regions_duplicates_path):\n",
    "    os.mkdir(regions_duplicates_path)    \n",
    "else:    \n",
    "    print(\"Directory \" + regions_duplicates_path +  \" already exists\")"
   ]
  },
  {
   "cell_type": "code",
   "execution_count": null,
   "metadata": {},
   "outputs": [],
   "source": [
    "os.chdir(regions_path)"
   ]
  },
  {
   "cell_type": "code",
   "execution_count": null,
   "metadata": {},
   "outputs": [],
   "source": [
    "print(os.getcwd())"
   ]
  },
  {
   "cell_type": "code",
   "execution_count": null,
   "metadata": {},
   "outputs": [],
   "source": [
    "list_of_file_names = video_date + '_region_files.txt'"
   ]
  },
  {
   "cell_type": "code",
   "execution_count": null,
   "metadata": {},
   "outputs": [],
   "source": [
    "if os.path.isfile(list_of_file_names):\n",
    "    os.remove(list_of_file_names)"
   ]
  },
  {
   "cell_type": "code",
   "execution_count": null,
   "metadata": {},
   "outputs": [],
   "source": [
    "#execute shell command to list all files into a text file\n",
    "log = open(list_of_file_names, 'a')\n",
    "log.flush()  # <-- here's something not to forget!\n",
    "proc = subprocess.Popen(['for f in *.jpg; do ls \"$f\"; done'], stdout=log, stderr=log, shell=True)\n",
    "\n",
    "output = proc.communicate()[0] #waits for previous command to finish"
   ]
  },
  {
   "cell_type": "code",
   "execution_count": null,
   "metadata": {},
   "outputs": [],
   "source": [
    "file = open(list_of_file_names, 'r')"
   ]
  },
  {
   "cell_type": "code",
   "execution_count": null,
   "metadata": {},
   "outputs": [],
   "source": [
    "file_content = file.readlines()"
   ]
  },
  {
   "cell_type": "code",
   "execution_count": null,
   "metadata": {},
   "outputs": [],
   "source": [
    "file.close()"
   ]
  },
  {
   "cell_type": "code",
   "execution_count": null,
   "metadata": {},
   "outputs": [],
   "source": [
    "len(file_content)"
   ]
  },
  {
   "cell_type": "code",
   "execution_count": null,
   "metadata": {
    "scrolled": true
   },
   "outputs": [],
   "source": [
    "file_content"
   ]
  },
  {
   "cell_type": "code",
   "execution_count": null,
   "metadata": {},
   "outputs": [],
   "source": [
    "def get_frame_number(fname):\n",
    "    p0 = re.compile('frame_([0-9]?[0-9]?[0-9]?[0-9]?[0-9])')\n",
    "    t0 = p0.search(fname.strip('\\n'))\n",
    "    \n",
    "    p1= re.compile('([0-9]).jpg')\n",
    "    t1 = p1.search(fname.strip('\\n'))\n",
    "    \n",
    "    fnumber = t0.group(1)\n",
    "    rnumber = t1.group(1)\n",
    "    \n",
    "    x = int(fnumber + rnumber)\n",
    "    \n",
    "    return x"
   ]
  },
  {
   "cell_type": "code",
   "execution_count": null,
   "metadata": {},
   "outputs": [],
   "source": [
    "file_content_sorted = []"
   ]
  },
  {
   "cell_type": "code",
   "execution_count": null,
   "metadata": {},
   "outputs": [],
   "source": [
    "for i in range(len(file_content)):\n",
    "    file_content_sorted.append({\"filename\": file_content[i].strip('\\n'), \"frame_number\": get_frame_number(file_content[i])})"
   ]
  },
  {
   "cell_type": "code",
   "execution_count": null,
   "metadata": {},
   "outputs": [],
   "source": [
    "file_content_sorted"
   ]
  },
  {
   "cell_type": "code",
   "execution_count": null,
   "metadata": {},
   "outputs": [],
   "source": [
    "# A function that returns the 'year' value:\n",
    "def sorter(n):\n",
    "  return n[\"frame_number\"]\n",
    "\n",
    "file_content_sorted.sort(key=sorter)"
   ]
  },
  {
   "cell_type": "code",
   "execution_count": null,
   "metadata": {},
   "outputs": [],
   "source": [
    "file_content_sorted"
   ]
  },
  {
   "cell_type": "code",
   "execution_count": null,
   "metadata": {},
   "outputs": [],
   "source": []
  },
  {
   "cell_type": "code",
   "execution_count": null,
   "metadata": {},
   "outputs": [],
   "source": [
    "def mse(imageA, imageB):\n",
    "\t# the 'Mean Squared Error' between the two images is the\n",
    "\t# sum of the squared difference between the two images;\n",
    "\t# NOTE: the two images must have the same dimension\n",
    "\terr = np.sum((imageA.astype(\"float\") - imageB.astype(\"float\")) ** 2)\n",
    "\terr /= float(imageA.shape[0] * imageA.shape[1])\n",
    "\t\n",
    "\t# return the MSE, the lower the error, the more \"similar\"\n",
    "\t# the two images are\n",
    "\treturn err"
   ]
  },
  {
   "cell_type": "code",
   "execution_count": null,
   "metadata": {},
   "outputs": [],
   "source": [
    "def compare_images(imageA, imageB, title):\n",
    "\t# compute the mean squared error and structural similarity\n",
    "\t# index for the images\n",
    "\tm = mse(imageA, imageB)\n",
    "\ts = measure.compare_ssim(imageA, imageB)\n",
    " \n",
    "\t# setup the figure\n",
    "\tfig = plt.figure(title)\n",
    "\tplt.suptitle(\"MSE: %.2f, SSIM: %.2f\" % (m, s))\n",
    " \n",
    "\t# show first image\n",
    "\tax = fig.add_subplot(1, 2, 1)\n",
    "\tplt.imshow(imageA, cmap = plt.cm.gray)\n",
    "\tplt.axis(\"off\")\n",
    " \n",
    "\t# show the second image\n",
    "\tax = fig.add_subplot(1, 2, 2)\n",
    "\tplt.imshow(imageB, cmap = plt.cm.gray)\n",
    "\tplt.axis(\"off\")\n",
    " \n",
    "\t# show the images\n",
    "\tplt.show()\n",
    "\treturn s"
   ]
  },
  {
   "cell_type": "code",
   "execution_count": null,
   "metadata": {},
   "outputs": [],
   "source": [
    "for x in range(len(file_content_sorted)):\n",
    "    similarity_score = 0\n",
    "    img1_number = x\n",
    "    img2_number = x + 2\n",
    "    img1_name = file_content_sorted[img1_number][\"filename\"]\n",
    "    img2_name = file_content_sorted[img2_number][\"filename\"]\n",
    "    try:\n",
    "        img1 = cv2.imread(img1_name,0)\n",
    "        img2 = cv2.imread(img2_name,0)\n",
    "        similarity_score = compare_images(img1,img2,\"test\")\n",
    "        if similarity_score > 0.95:\n",
    "            os.rename(regions_path+img2_name, regions_duplicates_path+img2_name)\n",
    "        while similarity_score > 0.95:\n",
    "            img2_number += 2\n",
    "            img2_name = file_content_sorted[img2_number][\"filename\"]\n",
    "            img2 = cv2.imread(img2_name,0)\n",
    "            similarity_score = compare_images(img1,img2,\"test\")\n",
    "            if similarity_score > 0.95:\n",
    "                os.rename(regions_path+img2_name, regions_duplicates_path+img2_name)\n",
    "    except:\n",
    "        print(\"file moved\")"
   ]
  },
  {
   "cell_type": "code",
   "execution_count": null,
   "metadata": {},
   "outputs": [],
   "source": []
  }
 ],
 "metadata": {
  "kernelspec": {
   "display_name": "Python [conda env:fastai]",
   "language": "python",
   "name": "conda-env-fastai-py"
  },
  "language_info": {
   "codemirror_mode": {
    "name": "ipython",
    "version": 3
   },
   "file_extension": ".py",
   "mimetype": "text/x-python",
   "name": "python",
   "nbconvert_exporter": "python",
   "pygments_lexer": "ipython3",
   "version": "3.6.7"
  }
 },
 "nbformat": 4,
 "nbformat_minor": 2
}
