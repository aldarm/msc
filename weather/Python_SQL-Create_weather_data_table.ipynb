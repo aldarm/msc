{
 "cells": [
  {
   "cell_type": "code",
   "execution_count": 7,
   "metadata": {},
   "outputs": [],
   "source": [
    "import os\n",
    "from pathlib import Path\n",
    "from cryptography.fernet import Fernet"
   ]
  },
  {
   "cell_type": "code",
   "execution_count": 8,
   "metadata": {},
   "outputs": [],
   "source": [
    "home = str(Path.home())"
   ]
  },
  {
   "cell_type": "code",
   "execution_count": 9,
   "metadata": {},
   "outputs": [],
   "source": [
    "file = open(home+'/sql_files/pysqlkey.key', 'rb')\n",
    "key = file.read() # The key will be type bytes\n",
    "file.close()"
   ]
  },
  {
   "cell_type": "code",
   "execution_count": 10,
   "metadata": {},
   "outputs": [],
   "source": [
    "cipher_suite = Fernet(key)\n",
    "with open(home+'/sql_files/sql_server_pwd.bin', 'rb') as file_object:\n",
    "    for line in file_object:\n",
    "        encryptedpwd = line"
   ]
  },
  {
   "cell_type": "code",
   "execution_count": 11,
   "metadata": {},
   "outputs": [],
   "source": [
    "import pyodbc\n",
    "server = 'deep-learning'\n",
    "database = 'MScDB'\n",
    "username = 'sa'\n",
    "cnxn = pyodbc.connect('DRIVER={ODBC Driver 17 for SQL Server};SERVER='+server+';PORT=1443;DATABASE='+database+';UID='+username+';PWD='+ bytes((cipher_suite.decrypt(encryptedpwd))).decode(\"utf-8\"))\n",
    "cursor = cnxn.cursor()"
   ]
  },
  {
   "cell_type": "code",
   "execution_count": 12,
   "metadata": {},
   "outputs": [
    {
     "name": "stdout",
     "output_type": "stream",
     "text": [
      "Create weather_data table\n",
      "weather_data table created\n"
     ]
    }
   ],
   "source": [
    "print ('Create weather_data table')\n",
    "#Create Query\n",
    "tsql = \"CREATE TABLE weather_data (Id INT IDENTITY(1,1) NOT NULL PRIMARY KEY\\\n",
    ", filename NVARCHAR(50) NOT NULL\\\n",
    ", date date NOT NULL\\\n",
    ", time time NOT NULL\\\n",
    ", conditions NVARCHAR(50) NOT NULL\\\n",
    ", temperature NVARCHAR(50) NOT NULL\\\n",
    ", wind NVARCHAR(50) NOT NULL\\\n",
    ", UVIndex NVARCHAR(50) NOT NULL\\\n",
    ", rain NVARCHAR(50) NOT NULL\\\n",
    ", heatStress NVARCHAR(50) NOT NULL\\\n",
    ", sunrise NVARCHAR(50) NOT NULL\\\n",
    ", feelsLike NVARCHAR(50) NOT NULL\\\n",
    ", sunset NVARCHAR(50) NOT NULL\\\n",
    ", gustBft NVARCHAR(50) NOT NULL\\\n",
    ", seaTemp NVARCHAR(50) NOT NULL\\\n",
    ", humidity NVARCHAR(50) NOT NULL\\\n",
    ", pressure NVARCHAR(50) NOT NULL\\\n",
    ");\"\n",
    "with cursor.execute(tsql):\n",
    "    print ('weather_data table created')"
   ]
  },
  {
   "cell_type": "code",
   "execution_count": null,
   "metadata": {},
   "outputs": [],
   "source": []
  }
 ],
 "metadata": {
  "kernelspec": {
   "display_name": "Python [conda env:fastai]",
   "language": "python",
   "name": "conda-env-fastai-py"
  },
  "language_info": {
   "codemirror_mode": {
    "name": "ipython",
    "version": 3
   },
   "file_extension": ".py",
   "mimetype": "text/x-python",
   "name": "python",
   "nbconvert_exporter": "python",
   "pygments_lexer": "ipython3",
   "version": "3.6.7"
  }
 },
 "nbformat": 4,
 "nbformat_minor": 2
}
