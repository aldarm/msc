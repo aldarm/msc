{
 "cells": [
  {
   "cell_type": "code",
   "execution_count": 73,
   "metadata": {},
   "outputs": [],
   "source": [
    "import os\n",
    "from pathlib import Path\n",
    "from cryptography.fernet import Fernet"
   ]
  },
  {
   "cell_type": "code",
   "execution_count": null,
   "metadata": {},
   "outputs": [],
   "source": [
    "home = str(Path.home())"
   ]
  },
  {
   "cell_type": "code",
   "execution_count": 74,
   "metadata": {},
   "outputs": [],
   "source": [
    "file = open(home+'/sql_files/pysqlkey.key', 'rb')\n",
    "key = file.read() # The key will be type bytes\n",
    "file.close()\n",
    "\n",
    "cipher_suite = Fernet(key)\n",
    "with open(home+'/sql_files/sql_server_pwd.bin', 'rb') as file_object:\n",
    "    for line in file_object:\n",
    "        encryptedpwd = line\n",
    "\n",
    "import pyodbc\n",
    "server = 'deep-learning'\n",
    "database = 'MScDB'\n",
    "username = 'sa'\n",
    "cnxn = pyodbc.connect('DRIVER={ODBC Driver 17 for SQL Server};SERVER='+server+';PORT=1443;DATABASE='+database+';UID='+username+';PWD='+ bytes((cipher_suite.decrypt(encryptedpwd))).decode(\"utf-8\"))\n",
    "cursor = cnxn.cursor()"
   ]
  },
  {
   "cell_type": "code",
   "execution_count": 75,
   "metadata": {},
   "outputs": [],
   "source": [
    "weather_path = '/media/alessio/3TB/Dropbox/pi/weather_data/'"
   ]
  },
  {
   "cell_type": "code",
   "execution_count": 76,
   "metadata": {},
   "outputs": [],
   "source": [
    "os.chdir(weather_path)"
   ]
  },
  {
   "cell_type": "code",
   "execution_count": 77,
   "metadata": {},
   "outputs": [
    {
     "name": "stdout",
     "output_type": "stream",
     "text": [
      "/media/alessio/3TB/Dropbox/pi/weather_data\n"
     ]
    }
   ],
   "source": [
    "print(os.getcwd())"
   ]
  },
  {
   "cell_type": "code",
   "execution_count": 78,
   "metadata": {},
   "outputs": [],
   "source": [
    "weather_file_name = 'weather_data_files.txt'\n",
    "weather_files = open(weather_file_name, \"r\",encoding='utf-8')"
   ]
  },
  {
   "cell_type": "code",
   "execution_count": 79,
   "metadata": {},
   "outputs": [],
   "source": [
    "weather_file_filenames = weather_files.readlines()"
   ]
  },
  {
   "cell_type": "code",
   "execution_count": 80,
   "metadata": {},
   "outputs": [],
   "source": [
    "weather_files.close()"
   ]
  },
  {
   "cell_type": "code",
   "execution_count": 81,
   "metadata": {},
   "outputs": [
    {
     "data": {
      "text/plain": [
       "9251"
      ]
     },
     "execution_count": 81,
     "metadata": {},
     "output_type": "execute_result"
    }
   ],
   "source": [
    "len(weather_file_filenames)"
   ]
  },
  {
   "cell_type": "code",
   "execution_count": 82,
   "metadata": {},
   "outputs": [],
   "source": [
    "def get_weather_data (weather_file_Content):\n",
    "    conditions = weather_file_Content[1].strip('\\n')\n",
    "    temperature = weather_file_Content[2].strip('\\n')\n",
    "    wind = weather_file_Content[3].strip('\\n')\n",
    "    UVIndex = weather_file_Content[5].strip('\\n')\n",
    "    rain = weather_file_Content[7].strip('\\n')\n",
    "    heatStress = weather_file_Content[9].strip('\\n')\n",
    "    sunrise = weather_file_Content[11].strip('\\n')\n",
    "    feelsLike = weather_file_Content[13].strip('\\n')\n",
    "    sunset = weather_file_Content[15].strip('\\n')\n",
    "    gustBft = weather_file_Content[17].strip('\\n')\n",
    "    seaTemp = weather_file_Content[19].strip('\\n')\n",
    "    humidity = weather_file_Content[21].strip('\\n')\n",
    "    pressure = weather_file_Content[23].strip('\\n')\n",
    "    weather_line = {\n",
    "        \"filename\"     : weather_file.name\n",
    "        ,\"conditions\"   : conditions \n",
    "        ,\"temperature\" : temperature\n",
    "        ,\"wind\"        : wind \n",
    "        ,\"UVIndex\"     : UVIndex  \n",
    "        ,\"rain\"        : rain\n",
    "        ,\"heatStress\"  : heatStress   \n",
    "        ,\"sunrise\"     : sunrise  \n",
    "        ,\"feelsLike\"   : feelsLike \n",
    "        ,\"sunset\"      : sunset \n",
    "        ,\"gustBft\"     : gustBft \n",
    "        ,\"seaTemp\"     : seaTemp \n",
    "        ,\"humidity\"    : humidity  \n",
    "        ,\"pressure\"    : pressure \n",
    "    }\n",
    "    return weather_line"
   ]
  },
  {
   "cell_type": "code",
   "execution_count": 83,
   "metadata": {},
   "outputs": [],
   "source": [
    "def insert_into_db (weather_line_data):\n",
    "    #Insert Query\n",
    "    tsql = \"INSERT INTO weather_data\\\n",
    "    (filename,conditions,temperature,wind,UVIndex,rain,heatStress,sunrise,feelsLike,sunset,gustBft,seaTemp,humidity,pressure)\\\n",
    "    VALUES (?,?,?,?,?,?,?,?,?,?,?,?,?,?);\"\n",
    "    cursor.execute(tsql\n",
    "        ,weather_line_data.get('filename')\n",
    "        ,weather_line_data.get('conditions')\n",
    "        ,weather_line_data.get('temperature')\n",
    "        ,weather_line_data.get('wind')\n",
    "        ,weather_line_data.get('UVIndex')\n",
    "        ,weather_line_data.get('rain')\n",
    "        ,weather_line_data.get('heatStress')\n",
    "        ,weather_line_data.get('sunrise')\n",
    "        ,weather_line_data.get('feelsLike')\n",
    "        ,weather_line_data.get('sunset')\n",
    "        ,weather_line_data.get('gustBft')\n",
    "        ,weather_line_data.get('seaTemp')\n",
    "        ,weather_line_data.get('humidity')\n",
    "        ,weather_line_data.get('pressure'))"
   ]
  },
  {
   "cell_type": "code",
   "execution_count": 84,
   "metadata": {},
   "outputs": [],
   "source": [
    "for x in range(0,len(weather_file_filenames)):\n",
    "    weather_file = open(weather_file_content[x].strip('\\n'))\n",
    "    weather_file_data = weather_file.readlines()\n",
    "    weather_line_dict = get_weather_data(weather_file_data)\n",
    "    insert_into_db(weather_line_dict)\n",
    "    weather_file.close()"
   ]
  },
  {
   "cell_type": "code",
   "execution_count": 85,
   "metadata": {},
   "outputs": [],
   "source": [
    "cursor.commit()\n",
    "cursor.close()\n",
    "cnxn.close()"
   ]
  },
  {
   "cell_type": "code",
   "execution_count": null,
   "metadata": {},
   "outputs": [],
   "source": []
  }
 ],
 "metadata": {
  "kernelspec": {
   "display_name": "Python [conda env:fastai]",
   "language": "python",
   "name": "conda-env-fastai-py"
  },
  "language_info": {
   "codemirror_mode": {
    "name": "ipython",
    "version": 3
   },
   "file_extension": ".py",
   "mimetype": "text/x-python",
   "name": "python",
   "nbconvert_exporter": "python",
   "pygments_lexer": "ipython3",
   "version": "3.6.7"
  }
 },
 "nbformat": 4,
 "nbformat_minor": 2
}
