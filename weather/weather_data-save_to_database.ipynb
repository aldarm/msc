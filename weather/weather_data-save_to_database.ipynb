{
 "cells": [
  {
   "cell_type": "code",
   "execution_count": 1,
   "metadata": {},
   "outputs": [],
   "source": [
    "import os\n",
    "import subprocess\n",
    "import re\n",
    "from pathlib import Path\n",
    "from cryptography.fernet import Fernet"
   ]
  },
  {
   "cell_type": "code",
   "execution_count": 2,
   "metadata": {},
   "outputs": [],
   "source": [
    "home = str(Path.home())"
   ]
  },
  {
   "cell_type": "code",
   "execution_count": 3,
   "metadata": {},
   "outputs": [],
   "source": [
    "file = open(home+'/sql_files/pysqlkey.key', 'rb')\n",
    "key = file.read() # The key will be type bytes\n",
    "file.close()\n",
    "\n",
    "cipher_suite = Fernet(key)\n",
    "with open(home+'/sql_files/sql_server_pwd.bin', 'rb') as file_object:\n",
    "    for line in file_object:\n",
    "        encryptedpwd = line\n",
    "\n",
    "import pyodbc\n",
    "server = 'deep-learning'\n",
    "database = 'MScDB'\n",
    "username = 'sa'\n",
    "cnxn = pyodbc.connect('DRIVER={ODBC Driver 17 for SQL Server};SERVER='+server+';PORT=1443;DATABASE='+database+';UID='+username+';PWD='+ bytes((cipher_suite.decrypt(encryptedpwd))).decode(\"utf-8\"))\n",
    "cursor = cnxn.cursor()"
   ]
  },
  {
   "cell_type": "code",
   "execution_count": 4,
   "metadata": {},
   "outputs": [],
   "source": [
    "weather_path = '/media/alessio/3TB/Dropbox/pi/weather_data/'"
   ]
  },
  {
   "cell_type": "code",
   "execution_count": 5,
   "metadata": {},
   "outputs": [],
   "source": [
    "os.chdir(weather_path)"
   ]
  },
  {
   "cell_type": "code",
   "execution_count": 6,
   "metadata": {},
   "outputs": [
    {
     "name": "stdout",
     "output_type": "stream",
     "text": [
      "/media/alessio/3TB/Dropbox/pi/weather_data\n"
     ]
    }
   ],
   "source": [
    "print(os.getcwd())"
   ]
  },
  {
   "cell_type": "code",
   "execution_count": 7,
   "metadata": {},
   "outputs": [],
   "source": [
    "weather_file_name = 'weatherdatafiles.txt'"
   ]
  },
  {
   "cell_type": "code",
   "execution_count": 8,
   "metadata": {},
   "outputs": [],
   "source": [
    "if os.path.isfile(weather_file_name):\n",
    "    os.remove(weather_file_name)"
   ]
  },
  {
   "cell_type": "code",
   "execution_count": 9,
   "metadata": {},
   "outputs": [],
   "source": [
    "#execute shell command to list all files into a text file\n",
    "log = open(weather_file_name, 'a')\n",
    "log.flush()  # <-- here's something not to forget!\n",
    "proc = subprocess.Popen(['for f in weather_data_*.txt; do ls \"$f\"; done'], stdout=log, stderr=log, shell=True)\n",
    "\n",
    "output = proc.communicate()[0] #waits for previous command to finish"
   ]
  },
  {
   "cell_type": "code",
   "execution_count": 10,
   "metadata": {},
   "outputs": [],
   "source": [
    "weather_files = open(weather_file_name, \"r\",encoding='utf-8')"
   ]
  },
  {
   "cell_type": "code",
   "execution_count": 11,
   "metadata": {},
   "outputs": [],
   "source": [
    "weather_file_filenames = weather_files.readlines()"
   ]
  },
  {
   "cell_type": "code",
   "execution_count": 12,
   "metadata": {},
   "outputs": [],
   "source": [
    "weather_files.close()"
   ]
  },
  {
   "cell_type": "code",
   "execution_count": 13,
   "metadata": {},
   "outputs": [
    {
     "data": {
      "text/plain": [
       "9407"
      ]
     },
     "execution_count": 13,
     "metadata": {},
     "output_type": "execute_result"
    }
   ],
   "source": [
    "len(weather_file_filenames)"
   ]
  },
  {
   "cell_type": "code",
   "execution_count": 14,
   "metadata": {},
   "outputs": [],
   "source": [
    "def get_weather_data (weather_file_Content):\n",
    "    try:\n",
    "        conditions = weather_file_Content[1].strip('\\n')\n",
    "        temperature = weather_file_Content[2].strip('\\n')\n",
    "        wind = weather_file_Content[3].strip('\\n')\n",
    "        UVIndex = weather_file_Content[5].strip('\\n')\n",
    "        rain = weather_file_Content[7].strip('\\n')\n",
    "        heatStress = weather_file_Content[9].strip('\\n')\n",
    "        sunrise = weather_file_Content[11].strip('\\n')\n",
    "        feelsLike = weather_file_Content[13].strip('\\n')\n",
    "        sunset = weather_file_Content[15].strip('\\n')\n",
    "        gustBft = weather_file_Content[17].strip('\\n')\n",
    "        seaTemp = weather_file_Content[19].strip('\\n')\n",
    "        humidity = weather_file_Content[21].strip('\\n')\n",
    "        pressure = weather_file_Content[23].strip('\\n')\n",
    "\n",
    "        #separate date and time, and change format\n",
    "        date_time = weather_file_data[24].strip('\\n')\n",
    "\n",
    "        date_criteria = re.compile('(3[01]|[12][0-9]|0?[1-9])/(1[0-2]|0?[1-9])/((?:[0-9]{2})?[0-9]{2})')\n",
    "        date_result = date_criteria.search(date_time)\n",
    "\n",
    "        #if month is less than 10, append 0\n",
    "        if len(date_result.group(2)) < 2:\n",
    "            month = \"0\"+date_result.group(2)\n",
    "        else:\n",
    "            month = date_result.group(2)\n",
    "\n",
    "        #if day is less than 10, append 0\n",
    "        if len(date_result.group(1)) < 2:\n",
    "            day = \"0\"+date_result.group(1)\n",
    "        else:\n",
    "            day = date_result.group(1)\n",
    "\n",
    "        date = date_result.group(3)+'-'+month+'-'+day\n",
    "\n",
    "        time_criteria = re.compile('([0-2][0-3]|[0-1][0-9]):([0-5][0-9])$')\n",
    "        time_result = time_criteria.search(date_time)\n",
    "        time = time_result.group(1) + ':' + time_result.group(2)\n",
    "    except:\n",
    "        date = '1900-01-01'\n",
    "        time = '23:59'\n",
    "        condition = 'na'\n",
    "        temperature = 'na'\n",
    "        wind  = 'na'\n",
    "        UVIndex = 'na'\n",
    "        rain = 'na'\n",
    "        heatStress = 'na'\n",
    "        sunrise   = 'na'\n",
    "        feelsLike = 'na'\n",
    "        sunset  = 'na'\n",
    "        gustBft  = 'na'\n",
    "        seaTemp  = 'na'\n",
    "        humidity  = 'na'\n",
    "        pressure  = 'na'\n",
    "        \n",
    "    \n",
    "    weather_line = {\n",
    "        \"filename\"     : weather_file.name\n",
    "        ,\"date\"        : date\n",
    "        ,\"time\"        : time\n",
    "        ,\"conditions\"  : conditions \n",
    "        ,\"temperature\" : temperature\n",
    "        ,\"wind\"        : wind \n",
    "        ,\"UVIndex\"     : UVIndex  \n",
    "        ,\"rain\"        : rain\n",
    "        ,\"heatStress\"  : heatStress   \n",
    "        ,\"sunrise\"     : sunrise  \n",
    "        ,\"feelsLike\"   : feelsLike \n",
    "        ,\"sunset\"      : sunset \n",
    "        ,\"gustBft\"     : gustBft \n",
    "        ,\"seaTemp\"     : seaTemp \n",
    "        ,\"humidity\"    : humidity  \n",
    "        ,\"pressure\"    : pressure \n",
    "    }\n",
    "    return weather_line"
   ]
  },
  {
   "cell_type": "code",
   "execution_count": 15,
   "metadata": {},
   "outputs": [],
   "source": [
    "def create_db_temp_table():\n",
    "    tsql = \"CREATE TABLE #weather_data (\\\n",
    "     filename NVARCHAR(50) NOT NULL\\\n",
    "    , date date NOT NULL\\\n",
    "    , time time NOT NULL\\\n",
    "    , conditions NVARCHAR(50) NOT NULL\\\n",
    "    , temperature NVARCHAR(50) NOT NULL\\\n",
    "    , wind NVARCHAR(50) NOT NULL\\\n",
    "    , UVIndex NVARCHAR(50) NOT NULL\\\n",
    "    , rain NVARCHAR(50) NOT NULL\\\n",
    "    , heatStress NVARCHAR(50) NOT NULL\\\n",
    "    , sunrise NVARCHAR(50) NOT NULL\\\n",
    "    , feelsLike NVARCHAR(50) NOT NULL\\\n",
    "    , sunset NVARCHAR(50) NOT NULL\\\n",
    "    , gustBft NVARCHAR(50) NOT NULL\\\n",
    "    , seaTemp NVARCHAR(50) NOT NULL\\\n",
    "    , humidity NVARCHAR(50) NOT NULL\\\n",
    "    , pressure NVARCHAR(50) NOT NULL\\\n",
    "    );\"\n",
    "    cursor.execute(tsql)"
   ]
  },
  {
   "cell_type": "code",
   "execution_count": 16,
   "metadata": {},
   "outputs": [],
   "source": [
    "def insert_into_db_temp_table (weather_line_data):\n",
    "    #Insert Query\n",
    "    tsql = \"INSERT INTO #weather_data\\\n",
    "    (filename,date,time,conditions,temperature,wind,UVIndex,rain,heatStress,sunrise,feelsLike,sunset,gustBft,seaTemp,humidity,pressure)\\\n",
    "    VALUES (?,?,?,?,?,?,?,?,?,?,?,?,?,?,?,?);\"\n",
    "    cursor.execute(tsql\n",
    "        ,weather_line_data.get('filename')\n",
    "        ,weather_line_data.get('date')\n",
    "        ,weather_line_data.get('time')\n",
    "        ,weather_line_data.get('conditions')\n",
    "        ,weather_line_data.get('temperature')\n",
    "        ,weather_line_data.get('wind')\n",
    "        ,weather_line_data.get('UVIndex')\n",
    "        ,weather_line_data.get('rain')\n",
    "        ,weather_line_data.get('heatStress')\n",
    "        ,weather_line_data.get('sunrise')\n",
    "        ,weather_line_data.get('feelsLike')\n",
    "        ,weather_line_data.get('sunset')\n",
    "        ,weather_line_data.get('gustBft')\n",
    "        ,weather_line_data.get('seaTemp')\n",
    "        ,weather_line_data.get('humidity')\n",
    "        ,weather_line_data.get('pressure'))"
   ]
  },
  {
   "cell_type": "code",
   "execution_count": 17,
   "metadata": {},
   "outputs": [],
   "source": [
    "def merge_into_db ():\n",
    "    tsql = \"Merge into weather_data as t1\\\n",
    "            using(select * from #weather_data) as t2 \\\n",
    "               on t1.filename=t2.filename \\\n",
    "            when not matched then \\\n",
    "               insert values(t2.filename,t2.date,t2.time,t2.conditions,t2.temperature,t2.wind,t2.UVIndex,t2.rain,t2.heatStress,t2.sunrise,t2.feelsLike,t2.sunset,t2.gustBft,t2.seaTemp,t2.humidity,t2.pressure);\"\n",
    "    cursor.execute(tsql)"
   ]
  },
  {
   "cell_type": "code",
   "execution_count": 18,
   "metadata": {},
   "outputs": [],
   "source": [
    "create_db_temp_table()"
   ]
  },
  {
   "cell_type": "code",
   "execution_count": 19,
   "metadata": {},
   "outputs": [],
   "source": [
    "for x in range(0,len(weather_file_filenames)):\n",
    "    weather_file = open(weather_file_filenames[x].strip('\\n'))\n",
    "    weather_file_data = weather_file.readlines()\n",
    "    weather_line_dict = get_weather_data(weather_file_data)\n",
    "    #insert_into_db(weather_line_dict)\n",
    "    insert_into_db_temp_table(weather_line_dict)\n",
    "    weather_file.close()"
   ]
  },
  {
   "cell_type": "code",
   "execution_count": 20,
   "metadata": {},
   "outputs": [],
   "source": [
    "cursor.commit()"
   ]
  },
  {
   "cell_type": "code",
   "execution_count": 21,
   "metadata": {},
   "outputs": [],
   "source": [
    "merge_into_db()"
   ]
  },
  {
   "cell_type": "code",
   "execution_count": 22,
   "metadata": {},
   "outputs": [],
   "source": [
    "cursor.commit()\n",
    "cursor.close()\n",
    "cnxn.close()"
   ]
  },
  {
   "cell_type": "code",
   "execution_count": null,
   "metadata": {},
   "outputs": [],
   "source": []
  }
 ],
 "metadata": {
  "kernelspec": {
   "display_name": "Python [conda env:fastai]",
   "language": "python",
   "name": "conda-env-fastai-py"
  },
  "language_info": {
   "codemirror_mode": {
    "name": "ipython",
    "version": 3
   },
   "file_extension": ".py",
   "mimetype": "text/x-python",
   "name": "python",
   "nbconvert_exporter": "python",
   "pygments_lexer": "ipython3",
   "version": "3.6.7"
  }
 },
 "nbformat": 4,
 "nbformat_minor": 2
}
