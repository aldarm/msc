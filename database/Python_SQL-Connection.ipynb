{
 "cells": [
  {
   "cell_type": "code",
   "execution_count": 13,
   "metadata": {},
   "outputs": [],
   "source": [
    "import os\n",
    "from pathlib import Path\n",
    "from cryptography.fernet import Fernet"
   ]
  },
  {
   "cell_type": "code",
   "execution_count": 14,
   "metadata": {},
   "outputs": [],
   "source": [
    "home = str(Path.home())"
   ]
  },
  {
   "cell_type": "code",
   "execution_count": 20,
   "metadata": {
    "scrolled": true
   },
   "outputs": [],
   "source": [
    "file = open(home+'/sql_files/pysqlkey.key', 'rb')\n",
    "key = file.read() # The key will be type bytes\n",
    "file.close()\n",
    "\n",
    "with open(home+'/sql_files/sql_server_pwd.bin', 'rb') as file_object:\n",
    "    for line in file_object:\n",
    "        encryptedpwd = line\n",
    "\n",
    "cipher_suite = Fernet(key)\n",
    "with open(home+'/sql_files/sql_server_pwd.bin', 'rb') as file_object:\n",
    "    for line in file_object:\n",
    "        encryptedpwd = line\n",
    "\n",
    "import pyodbc\n",
    "server = 'deep-learning'\n",
    "database = 'MScDB'\n",
    "username = 'sa'\n",
    "connection = pyodbc.connect('DRIVER={ODBC Driver 17 for SQL Server};SERVER='+server+';PORT=1443;DATABASE='+database+';UID='+username+';PWD='+ bytes((cipher_suite.decrypt(encryptedpwd))).decode(\"utf-8\"))\n",
    "cursor = cnxn.cursor()"
   ]
  },
  {
   "cell_type": "code",
   "execution_count": null,
   "metadata": {},
   "outputs": [],
   "source": []
  }
 ],
 "metadata": {
  "kernelspec": {
   "display_name": "Python [conda env:fastai]",
   "language": "python",
   "name": "conda-env-fastai-py"
  },
  "language_info": {
   "codemirror_mode": {
    "name": "ipython",
    "version": 3
   },
   "file_extension": ".py",
   "mimetype": "text/x-python",
   "name": "python",
   "nbconvert_exporter": "python",
   "pygments_lexer": "ipython3",
   "version": "3.6.7"
  }
 },
 "nbformat": 4,
 "nbformat_minor": 2
}
